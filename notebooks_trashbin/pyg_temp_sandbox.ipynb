{
 "cells": [
  {
   "cell_type": "code",
   "execution_count": 1,
   "id": "e1a6f941-f9df-400f-8a74-853cd3c9695a",
   "metadata": {},
   "outputs": [],
   "source": [
    "import torch\n",
    "from torch.nn import Parameter\n",
    "from torch_geometric.nn import HeteroConv, SAGEConv, GCNConv, GATConv\n",
    "from torch_geometric.nn.inits import glorot\n",
    "import torch.nn as nn"
   ]
  },
  {
   "cell_type": "markdown",
   "id": "0cd304e2-f5a6-4315-b66f-ddff3b729f75",
   "metadata": {
    "jp-MarkdownHeadingCollapsed": true
   },
   "source": [
    "# Some RNN versions"
   ]
  },
  {
   "cell_type": "code",
   "execution_count": 2,
   "id": "a7406224-ab5a-487e-ba00-a6d926005a6f",
   "metadata": {},
   "outputs": [
    {
     "name": "stdout",
     "output_type": "stream",
     "text": [
      "torch.Size([32, 1])\n"
     ]
    }
   ],
   "source": [
    "class LSTMModel(nn.Module):\n",
    "    def __init__(self, input_size, hidden_size, output_size):\n",
    "        super(LSTMModel, self).__init__()\n",
    "        self.lstm_cell = nn.LSTMCell(input_size, hidden_size)\n",
    "        self.fc = nn.Linear(hidden_size, output_size)\n",
    "        self.hidden_size = hidden_size\n",
    "\n",
    "    def forward(self, x):\n",
    "        batch_size = x.size(0)\n",
    "        hidden_state = torch.zeros(batch_size, self.hidden_size).to(x.device)\n",
    "        cell_state = torch.zeros(batch_size, self.hidden_size).to(x.device)\n",
    "\n",
    "        for t in range(x.size(1)):\n",
    "            hidden_state, cell_state = self.lstm_cell(x[:, t, :], (hidden_state, cell_state))\n",
    "\n",
    "        # Предсказание на несколько шагов вперед\n",
    "        output = self.fc(hidden_state)\n",
    "        return output\n",
    "\n",
    "# Пример использования\n",
    "input_size = 5   # размерность входных данных\n",
    "hidden_size = 32 # размер скрытого состояния\n",
    "output_size = 1  # размерность выходных данных (например, предсказание следующего значения)\n",
    "\n",
    "model = LSTMModel(input_size, hidden_size, output_size)\n",
    "input_data = torch.randn(32, 10, input_size)  # пример входных данных: (batch_size, sequence_length, input_size)\n",
    "output = model(input_data)\n",
    "print(output.shape)  # ожидаемый вывод: (32, 1)"
   ]
  },
  {
   "cell_type": "code",
   "execution_count": 3,
   "id": "5266c35b-9425-4662-8718-1273477e99d9",
   "metadata": {},
   "outputs": [
    {
     "name": "stdout",
     "output_type": "stream",
     "text": [
      "torch.Size([32, 5, 1])\n"
     ]
    }
   ],
   "source": [
    "class LSTMModel(nn.Module):\n",
    "    def __init__(self, input_size, hidden_size, out_steps):\n",
    "        super(LSTMModel, self).__init__()\n",
    "        self.lstm_cell = nn.LSTMCell(input_size, hidden_size)\n",
    "        self.fc = nn.Linear(hidden_size, out_steps)  # Изменяем на out_steps\n",
    "        self.hidden_size = hidden_size\n",
    "\n",
    "    def forward(self, x):\n",
    "        batch_size = x.size(0)\n",
    "        hidden_state = torch.zeros(batch_size, self.hidden_size).to(x.device)\n",
    "        cell_state = torch.zeros(batch_size, self.hidden_size).to(x.device)\n",
    "\n",
    "        for t in range(x.size(1)):\n",
    "            hidden_state, cell_state = self.lstm_cell(x[:, t, :], (hidden_state, cell_state))\n",
    "\n",
    "        # Предсказание на несколько шагов вперед\n",
    "        output = self.fc(hidden_state)\n",
    "        \n",
    "        # Изменяем размерность на (batch_size, out_steps, 1)\n",
    "        output = output.view(batch_size, -1, 1)  # Здесь 1 - это количество признаков для предсказания\n",
    "        return output\n",
    "\n",
    "# Пример использования\n",
    "input_size = 1   # размерность входных данных\n",
    "hidden_size = 64 # размер скрытого состояния\n",
    "out_steps = 5    # количество шагов вперед для предсказания\n",
    "\n",
    "model = LSTMModel(input_size, hidden_size, out_steps)\n",
    "input_data = torch.randn(32, 10, input_size)  # пример входных данных: (batch_size, sequence_length, input_size)\n",
    "output = model(input_data)\n",
    "print(output.shape)  # ожидаемый вывод: (32, out_steps, 1)"
   ]
  },
  {
   "cell_type": "code",
   "execution_count": 5,
   "id": "d1f83e58-a766-4354-b8da-cd3e195fff02",
   "metadata": {},
   "outputs": [
    {
     "name": "stdout",
     "output_type": "stream",
     "text": [
      "torch.Size([32, 5, 1])\n"
     ]
    }
   ],
   "source": [
    "class LSTMForecastingModel(nn.Module):\n",
    "    def __init__(self, input_size, hidden_size, output_size):\n",
    "        super(LSTMForecastingModel, self).__init__()\n",
    "        self.lstm_cell = nn.LSTMCell(input_size, hidden_size)\n",
    "        self.fc = nn.Linear(hidden_size, output_size)\n",
    "        self.hidden_size = hidden_size\n",
    "\n",
    "    def forward(self, x, steps_ahead):\n",
    "        batch_size = x.size(0)\n",
    "        hidden_state = torch.zeros(batch_size, self.hidden_size).to(x.device)\n",
    "        cell_state = torch.zeros(batch_size, self.hidden_size).to(x.device)\n",
    "\n",
    "        for t in range(x.size(1)):\n",
    "            hidden_state, cell_state = self.lstm_cell(x[:, t, :], (hidden_state, cell_state))\n",
    "\n",
    "        predictions = []\n",
    "        \n",
    "        # Предсказания на несколько шагов вперед\n",
    "        for _ in range(steps_ahead):\n",
    "            output = self.fc(hidden_state)\n",
    "            predictions.append(output.unsqueeze(1))\n",
    "            hidden_state, cell_state = self.lstm_cell(output, (hidden_state, cell_state))\n",
    "\n",
    "        return torch.cat(predictions, dim=1)\n",
    "\n",
    "# Пример использования\n",
    "input_size = 1   # размерность входных данных\n",
    "hidden_size = 64 # размер скрытого состояния\n",
    "output_size = 1  # размерность выходных данных\n",
    "\n",
    "model = LSTMForecastingModel(input_size, hidden_size, output_size)\n",
    "input_data = torch.randn(32, 10, input_size)  # пример входных данных: (batch_size, sequence_length, input_size)\n",
    "steps_ahead = 5\n",
    "output = model(input_data, steps_ahead)\n",
    "print(output.shape)  # ожидаемый вывод: (32, steps_ahead, 1)"
   ]
  },
  {
   "cell_type": "markdown",
   "id": "eee2bc51-29a8-4259-8148-b7c5a50992af",
   "metadata": {},
   "source": [
    "# My model versions"
   ]
  },
  {
   "cell_type": "markdown",
   "id": "cebda863-7e5e-4328-be8c-745d2b863de9",
   "metadata": {},
   "source": [
    "**Случайное изменение количества связей в графе**"
   ]
  },
  {
   "cell_type": "code",
   "execution_count": 63,
   "id": "808e383e-2b91-4dbd-9fb7-d39fa7a93d3c",
   "metadata": {},
   "outputs": [],
   "source": [
    "def change_edge_number(edges, attrs):\n",
    "\n",
    "    num_cols = edges.size(1) # Количество столбцов\n",
    "    num_remove = torch.randint(low=200, high=num_cols//2, size=(1,)).item()  # Количество столбцов для удаления\n",
    "    remove_indices = torch.randperm(num_cols)[:num_remove]  # Случайные индексы для удаления\n",
    "    # print(f\"Индексы для удаления: {remove_indices}\")\n",
    "\n",
    "    # Генерируем индексы оставшихся столбцов\n",
    "    remaining_indices = torch.tensor([i for i in range(num_cols) if i not in remove_indices])\n",
    "\n",
    "    # Создаем новый тензор без удаляемых столбцов\n",
    "    remaining_edges = edges[:, remaining_indices]\n",
    "    remaining_attrs = attrs[remaining_indices]\n",
    "    # print(f\"Тензор после удаления столбцов:\\n{result}\")\n",
    "    # print(f\"Размер тензора после удаления столбцов:\\n{result.shape}\")\n",
    "    return remaining_edges, remaining_attrs"
   ]
  },
  {
   "cell_type": "code",
   "execution_count": 2,
   "id": "32e1281a-da1d-464a-b1fe-464b745a0ebd",
   "metadata": {
    "tags": []
   },
   "outputs": [],
   "source": [
    "class HeteroGCLSTM_SAGE(torch.nn.Module):\n",
    "    r\"\"\"An implementation similar to the Integrated Graph Convolutional Long Short Term\n",
    "        Memory Cell for heterogeneous Graphs.\n",
    "\n",
    "        Args:\n",
    "            in_channels_dict (dict of keys=str and values=int): Dimension of each node's input features.\n",
    "            out_channels (int): Number of output features.\n",
    "            metadata (tuple): Metadata on node types and edge types in the graphs. Can be generated via PyG method\n",
    "                :obj:`snapshot.metadata()` where snapshot is a single HeteroData object.\n",
    "            bias (bool, optional): If set to :obj:`False`, the layer will not learn\n",
    "                an additive bias. (default: :obj:`True`)\n",
    "    \"\"\"\n",
    "\n",
    "    def __init__(\n",
    "            self,\n",
    "            in_channels_dict: dict,\n",
    "            out_channels: int,\n",
    "            metadata: tuple,\n",
    "            bias: bool = True\n",
    "    ):\n",
    "        super(HeteroGCLSTM_SAGE, self).__init__()\n",
    "\n",
    "        self.in_channels_dict = in_channels_dict\n",
    "        self.out_channels = out_channels\n",
    "        self.metadata = metadata\n",
    "        self.bias = bias\n",
    "        self._create_parameters_and_layers()\n",
    "        self._set_parameters()\n",
    "\n",
    "    def _create_input_gate_parameters_and_layers(self):\n",
    "        self.conv_i = HeteroConv({edge_type: SAGEConv(in_channels=(-1, -1),\n",
    "                                                      out_channels=self.out_channels,\n",
    "                                                      bias=self.bias) for edge_type in self.metadata[1]})\n",
    "\n",
    "        self.W_i = nn.ParameterDict({node_type: Parameter(torch.Tensor(in_channels, self.out_channels))\n",
    "                    for node_type, in_channels in self.in_channels_dict.items()})\n",
    "        self.b_i = nn.ParameterDict({node_type: Parameter(torch.Tensor(1, self.out_channels))\n",
    "                    for node_type in self.in_channels_dict})\n",
    "\n",
    "    def _create_forget_gate_parameters_and_layers(self):\n",
    "        self.conv_f = HeteroConv({edge_type: SAGEConv(in_channels=(-1, -1),\n",
    "                                                      out_channels=self.out_channels,\n",
    "                                                      bias=self.bias) for edge_type in self.metadata[1]})\n",
    "\n",
    "        self.W_f = nn.ParameterDict({node_type: Parameter(torch.Tensor(in_channels, self.out_channels))\n",
    "                    for node_type, in_channels in self.in_channels_dict.items()})\n",
    "        self.b_f = nn.ParameterDict({node_type: Parameter(torch.Tensor(1, self.out_channels))\n",
    "                    for node_type in self.in_channels_dict})\n",
    "\n",
    "    def _create_cell_state_parameters_and_layers(self):\n",
    "        self.conv_c = HeteroConv({edge_type: SAGEConv(in_channels=(-1, -1),\n",
    "                                                      out_channels=self.out_channels,\n",
    "                                                      bias=self.bias) for edge_type in self.metadata[1]})\n",
    "\n",
    "        self.W_c = nn.ParameterDict({node_type: Parameter(torch.Tensor(in_channels, self.out_channels))\n",
    "                    for node_type, in_channels in self.in_channels_dict.items()})\n",
    "        self.b_c = nn.ParameterDict({node_type: Parameter(torch.Tensor(1, self.out_channels))\n",
    "                    for node_type in self.in_channels_dict})\n",
    "\n",
    "    def _create_output_gate_parameters_and_layers(self):\n",
    "        self.conv_o = HeteroConv({edge_type: SAGEConv(in_channels=(-1, -1),\n",
    "                                                      out_channels=self.out_channels,\n",
    "                                                      bias=self.bias) for edge_type in self.metadata[1]})\n",
    "\n",
    "        self.W_o = nn.ParameterDict({node_type: Parameter(torch.Tensor(in_channels, self.out_channels))\n",
    "                    for node_type, in_channels in self.in_channels_dict.items()})\n",
    "        self.b_o = nn.ParameterDict({node_type: Parameter(torch.Tensor(1, self.out_channels))\n",
    "                    for node_type in self.in_channels_dict})\n",
    "\n",
    "    def _create_parameters_and_layers(self):\n",
    "        self._create_input_gate_parameters_and_layers()\n",
    "        self._create_forget_gate_parameters_and_layers()\n",
    "        self._create_cell_state_parameters_and_layers()\n",
    "        self._create_output_gate_parameters_and_layers()\n",
    "\n",
    "    def _set_parameters(self):\n",
    "        for key in self.W_i:\n",
    "            glorot(self.W_i[key])\n",
    "        for key in self.W_f:\n",
    "            glorot(self.W_f[key])\n",
    "        for key in self.W_c:\n",
    "            glorot(self.W_c[key])\n",
    "        for key in self.W_o:\n",
    "            glorot(self.W_o[key])\n",
    "        for key in self.b_i:\n",
    "            glorot(self.b_i[key])\n",
    "        for key in self.b_f:\n",
    "            glorot(self.b_f[key])\n",
    "        for key in self.b_c:\n",
    "            glorot(self.b_c[key])\n",
    "        for key in self.b_o:\n",
    "            glorot(self.b_o[key])\n",
    "\n",
    "    def _set_hidden_state(self, x_dict, h_dict):\n",
    "        if h_dict is None:\n",
    "            h_dict = {node_type: torch.zeros(X.shape[0], self.out_channels) for node_type, X in x_dict.items()}\n",
    "        return h_dict\n",
    "\n",
    "    def _set_cell_state(self, x_dict, c_dict):\n",
    "        if c_dict is None:\n",
    "            c_dict = {node_type: torch.zeros(X.shape[0], self.out_channels) for node_type, X in x_dict.items()}\n",
    "        return c_dict\n",
    "\n",
    "    def _calculate_input_gate(self, x_dict, edge_index_dict, h_dict, c_dict):\n",
    "        i_dict = {node_type: torch.matmul(X, self.W_i[node_type]) for node_type, X in x_dict.items()}\n",
    "        conv_i = self.conv_i(h_dict, edge_index_dict)\n",
    "        i_dict = {node_type: I + conv_i[node_type] for node_type, I in i_dict.items()}\n",
    "        i_dict = {node_type: I + self.b_i[node_type] for node_type, I in i_dict.items()}\n",
    "        i_dict = {node_type: torch.sigmoid(I) for node_type, I in i_dict.items()}\n",
    "        return i_dict\n",
    "\n",
    "    def _calculate_forget_gate(self, x_dict, edge_index_dict, h_dict, c_dict):\n",
    "        f_dict = {node_type: torch.matmul(X, self.W_f[node_type]) for node_type, X in x_dict.items()}\n",
    "        conv_f = self.conv_f(h_dict, edge_index_dict)\n",
    "        f_dict = {node_type: F + conv_f[node_type] for node_type, F in f_dict.items()}\n",
    "        f_dict = {node_type: F + self.b_f[node_type] for node_type, F in f_dict.items()}\n",
    "        f_dict = {node_type: torch.sigmoid(F) for node_type, F in f_dict.items()}\n",
    "        return f_dict\n",
    "\n",
    "    def _calculate_cell_state(self, x_dict, edge_index_dict, h_dict, c_dict, i_dict, f_dict):\n",
    "        t_dict = {node_type: torch.matmul(X, self.W_c[node_type]) for node_type, X in x_dict.items()}\n",
    "        conv_c = self.conv_c(h_dict, edge_index_dict)\n",
    "        t_dict = {node_type: T + conv_c[node_type] for node_type, T in t_dict.items()}\n",
    "        t_dict = {node_type: T + self.b_c[node_type] for node_type, T in t_dict.items()}\n",
    "        t_dict = {node_type: torch.tanh(T) for node_type, T in t_dict.items()}\n",
    "        c_dict = {node_type: f_dict[node_type] * C + i_dict[node_type] * t_dict[node_type] for node_type, C in c_dict.items()}\n",
    "        return c_dict\n",
    "\n",
    "    def _calculate_output_gate(self, x_dict, edge_index_dict, h_dict, c_dict):\n",
    "        o_dict = {node_type: torch.matmul(X, self.W_o[node_type]) for node_type, X in x_dict.items()}\n",
    "        conv_o = self.conv_o(h_dict, edge_index_dict)\n",
    "        o_dict = {node_type: O + conv_o[node_type] for node_type, O in o_dict.items()}\n",
    "        o_dict = {node_type: O + self.b_o[node_type] for node_type, O in o_dict.items()}\n",
    "        o_dict = {node_type: torch.sigmoid(O) for node_type, O in o_dict.items()}\n",
    "        return o_dict\n",
    "\n",
    "    def _calculate_hidden_state(self, o_dict, c_dict):\n",
    "        h_dict = {node_type: o_dict[node_type] * torch.tanh(C) for node_type, C in c_dict.items()}\n",
    "        return h_dict\n",
    "\n",
    "    def forward(\n",
    "        self,\n",
    "        x_dict,\n",
    "        edge_index_dict,\n",
    "        h_dict=None,\n",
    "        c_dict=None,\n",
    "    ):\n",
    "        \"\"\"\n",
    "        Making a forward pass. If the hidden state and cell state\n",
    "        matrix dicts are not present when the forward pass is called these are\n",
    "        initialized with zeros.\n",
    "\n",
    "        Arg types:\n",
    "            * **x_dict** *(Dictionary where keys=Strings and values=PyTorch Float Tensors)* - Node features dicts. Can\n",
    "                be obtained via PyG method :obj:`snapshot.x_dict` where snapshot is a single HeteroData object.\n",
    "            * **edge_index_dict** *(Dictionary where keys=Tuples and values=PyTorch Long Tensors)* - Graph edge type\n",
    "                and index dicts. Can be obtained via PyG method :obj:`snapshot.edge_index_dict`.\n",
    "            * **h_dict** *(Dictionary where keys=Strings and values=PyTorch Float Tensor, optional)* - Node type and\n",
    "                hidden state matrix dict for all nodes.\n",
    "            * **c_dict** *(Dictionary where keys=Strings and values=PyTorch Float Tensor, optional)* - Node type and\n",
    "                cell state matrix dict for all nodes.\n",
    "\n",
    "        Return types:\n",
    "            * **h_dict** *(Dictionary where keys=Strings and values=PyTorch Float Tensor)* - Node type and\n",
    "                hidden state matrix dict for all nodes.\n",
    "            * **c_dict** *(Dictionary where keys=Strings and values=PyTorch Float Tensor)* - Node type and\n",
    "                cell state matrix dict for all nodes.\n",
    "        \"\"\"\n",
    "\n",
    "        h_dict = self._set_hidden_state(x_dict, h_dict)\n",
    "        c_dict = self._set_cell_state(x_dict, c_dict)\n",
    "        i_dict = self._calculate_input_gate(x_dict, edge_index_dict, h_dict, c_dict)\n",
    "        f_dict = self._calculate_forget_gate(x_dict, edge_index_dict, h_dict, c_dict)\n",
    "        c_dict = self._calculate_cell_state(x_dict, edge_index_dict, h_dict, c_dict, i_dict, f_dict)\n",
    "        o_dict = self._calculate_output_gate(x_dict, edge_index_dict, h_dict, c_dict)\n",
    "        h_dict = self._calculate_hidden_state(o_dict, c_dict)\n",
    "        return h_dict, c_dict"
   ]
  },
  {
   "cell_type": "code",
   "execution_count": 3,
   "id": "18290f9f-637a-4309-9e62-dfb538839726",
   "metadata": {},
   "outputs": [],
   "source": [
    "class HeteroGCLSTM_GAT_edge(torch.nn.Module):\n",
    "    r\"\"\"An implementation similar to the Integrated Graph Convolutional Long Short Term\n",
    "        Memory Cell for heterogeneous Graphs.\n",
    "\n",
    "        Args:\n",
    "            in_channels_dict (dict of keys=str and values=int): Dimension of each node's input features.\n",
    "            out_channels (int): Number of output features.\n",
    "            metadata (tuple): Metadata on node types and edge types in the graphs. Can be generated via PyG method\n",
    "                :obj:`snapshot.metadata()` where snapshot is a single HeteroData object.\n",
    "            bias (bool, optional): If set to :obj:`False`, the layer will not learn\n",
    "                an additive bias. (default: :obj:`True`)\n",
    "    \"\"\"\n",
    "\n",
    "    def __init__(\n",
    "            self,\n",
    "            in_channels_dict: dict,\n",
    "            out_channels: int,\n",
    "            metadata: tuple,\n",
    "            bias: bool = True\n",
    "    ):\n",
    "        super(HeteroGCLSTM_GAT_edge, self).__init__()\n",
    "\n",
    "        self.in_channels_dict = in_channels_dict\n",
    "        self.out_channels = out_channels\n",
    "        self.metadata = metadata\n",
    "        self.bias = bias\n",
    "        self._create_parameters_and_layers()\n",
    "        self._set_parameters()\n",
    "\n",
    "    def _create_input_gate_parameters_and_layers(self):\n",
    "        self.conv_i = HeteroConv({edge_type: GATConv(in_channels=(-1, -1),\n",
    "                                                     out_channels=self.out_channels,\n",
    "                                                     heads=1,\n",
    "                                                     concat=False,\n",
    "                                                     edge_dim=1,\n",
    "                                                     bias=self.bias,\n",
    "                                                     add_self_loops=False) for edge_type in self.metadata[1]})\n",
    "\n",
    "        self.W_i = nn.ParameterDict({node_type: Parameter(torch.Tensor(in_channels, self.out_channels))\n",
    "                    for node_type, in_channels in self.in_channels_dict.items()})\n",
    "        self.b_i = nn.ParameterDict({node_type: Parameter(torch.Tensor(1, self.out_channels))\n",
    "                    for node_type in self.in_channels_dict})\n",
    "\n",
    "    def _create_forget_gate_parameters_and_layers(self):\n",
    "        self.conv_f = HeteroConv({edge_type: GATConv(in_channels=(-1, -1),\n",
    "                                                     out_channels=self.out_channels,\n",
    "                                                     heads=1,\n",
    "                                                     concat=False,\n",
    "                                                     edge_dim=1,\n",
    "                                                     bias=self.bias,\n",
    "                                                     add_self_loops=False) for edge_type in self.metadata[1]})\n",
    "\n",
    "        self.W_f = nn.ParameterDict({node_type: Parameter(torch.Tensor(in_channels, self.out_channels))\n",
    "                    for node_type, in_channels in self.in_channels_dict.items()})\n",
    "        self.b_f = nn.ParameterDict({node_type: Parameter(torch.Tensor(1, self.out_channels))\n",
    "                    for node_type in self.in_channels_dict})\n",
    "\n",
    "    def _create_cell_state_parameters_and_layers(self):\n",
    "        self.conv_c = HeteroConv({edge_type: GATConv(in_channels=(-1, -1),\n",
    "                                                     out_channels=self.out_channels,\n",
    "                                                     heads=1,\n",
    "                                                     concat=False,\n",
    "                                                     edge_dim=1,\n",
    "                                                     bias=self.bias,\n",
    "                                                     add_self_loops=False) for edge_type in self.metadata[1]})\n",
    "\n",
    "        self.W_c = nn.ParameterDict({node_type: Parameter(torch.Tensor(in_channels, self.out_channels))\n",
    "                    for node_type, in_channels in self.in_channels_dict.items()})\n",
    "        self.b_c = nn.ParameterDict({node_type: Parameter(torch.Tensor(1, self.out_channels))\n",
    "                    for node_type in self.in_channels_dict})\n",
    "\n",
    "    def _create_output_gate_parameters_and_layers(self):\n",
    "        self.conv_o = HeteroConv({edge_type: GATConv(in_channels=(-1, -1),\n",
    "                                                     out_channels=self.out_channels,\n",
    "                                                     heads=1,\n",
    "                                                     concat=False,\n",
    "                                                     edge_dim=1,\n",
    "                                                     bias=self.bias,\n",
    "                                                     add_self_loops=False) for edge_type in self.metadata[1]})\n",
    "\n",
    "        self.W_o = nn.ParameterDict({node_type: Parameter(torch.Tensor(in_channels, self.out_channels))\n",
    "                    for node_type, in_channels in self.in_channels_dict.items()})\n",
    "        self.b_o = nn.ParameterDict({node_type: Parameter(torch.Tensor(1, self.out_channels))\n",
    "                    for node_type in self.in_channels_dict})\n",
    "\n",
    "    def _create_parameters_and_layers(self):\n",
    "        self._create_input_gate_parameters_and_layers()\n",
    "        self._create_forget_gate_parameters_and_layers()\n",
    "        self._create_cell_state_parameters_and_layers()\n",
    "        self._create_output_gate_parameters_and_layers()\n",
    "\n",
    "    def _set_parameters(self):\n",
    "        for key in self.W_i:\n",
    "            glorot(self.W_i[key])\n",
    "        for key in self.W_f:\n",
    "            glorot(self.W_f[key])\n",
    "        for key in self.W_c:\n",
    "            glorot(self.W_c[key])\n",
    "        for key in self.W_o:\n",
    "            glorot(self.W_o[key])\n",
    "        for key in self.b_i:\n",
    "            glorot(self.b_i[key])\n",
    "        for key in self.b_f:\n",
    "            glorot(self.b_f[key])\n",
    "        for key in self.b_c:\n",
    "            glorot(self.b_c[key])\n",
    "        for key in self.b_o:\n",
    "            glorot(self.b_o[key])\n",
    "\n",
    "    def _set_hidden_state(self, x_dict, h_dict):\n",
    "        if h_dict is None:\n",
    "            h_dict = {node_type: torch.zeros(X.shape[0], self.out_channels) for node_type, X in x_dict.items()}\n",
    "        return h_dict\n",
    "\n",
    "    def _set_cell_state(self, x_dict, c_dict):\n",
    "        if c_dict is None:\n",
    "            c_dict = {node_type: torch.zeros(X.shape[0], self.out_channels) for node_type, X in x_dict.items()}\n",
    "        return c_dict\n",
    "\n",
    "    def _calculate_input_gate(self, x_dict, edge_index_dict, edge_attr_dict, h_dict, c_dict):\n",
    "        i_dict = {node_type: torch.matmul(X, self.W_i[node_type]) for node_type, X in x_dict.items()}\n",
    "        conv_i = self.conv_i(h_dict, edge_index_dict, edge_attr_dict=edge_attr_dict)\n",
    "        i_dict = {node_type: I + conv_i[node_type] for node_type, I in i_dict.items()}\n",
    "        i_dict = {node_type: I + self.b_i[node_type] for node_type, I in i_dict.items()}\n",
    "        i_dict = {node_type: torch.sigmoid(I) for node_type, I in i_dict.items()}\n",
    "        return i_dict\n",
    "\n",
    "    def _calculate_forget_gate(self, x_dict, edge_index_dict, edge_attr_dict, h_dict, c_dict):\n",
    "        f_dict = {node_type: torch.matmul(X, self.W_f[node_type]) for node_type, X in x_dict.items()}\n",
    "        conv_f = self.conv_f(h_dict, edge_index_dict, edge_attr_dict=edge_attr_dict)\n",
    "        f_dict = {node_type: F + conv_f[node_type] for node_type, F in f_dict.items()}\n",
    "        f_dict = {node_type: F + self.b_f[node_type] for node_type, F in f_dict.items()}\n",
    "        f_dict = {node_type: torch.sigmoid(F) for node_type, F in f_dict.items()}\n",
    "        return f_dict\n",
    "\n",
    "    def _calculate_cell_state(self, x_dict, edge_index_dict, edge_attr_dict, h_dict, c_dict, i_dict, f_dict):\n",
    "        t_dict = {node_type: torch.matmul(X, self.W_c[node_type]) for node_type, X in x_dict.items()}\n",
    "        conv_c = self.conv_c(h_dict, edge_index_dict, edge_attr_dict=edge_attr_dict)\n",
    "        t_dict = {node_type: T + conv_c[node_type] for node_type, T in t_dict.items()}\n",
    "        t_dict = {node_type: T + self.b_c[node_type] for node_type, T in t_dict.items()}\n",
    "        t_dict = {node_type: torch.tanh(T) for node_type, T in t_dict.items()}\n",
    "        c_dict = {node_type: f_dict[node_type] * C + i_dict[node_type] * t_dict[node_type] for node_type, C in c_dict.items()}\n",
    "        return c_dict\n",
    "\n",
    "    def _calculate_output_gate(self, x_dict, edge_index_dict, edge_attr_dict, h_dict, c_dict):\n",
    "        o_dict = {node_type: torch.matmul(X, self.W_o[node_type]) for node_type, X in x_dict.items()}\n",
    "        conv_o = self.conv_o(h_dict, edge_index_dict, edge_attr_dict=edge_attr_dict)\n",
    "        o_dict = {node_type: O + conv_o[node_type] for node_type, O in o_dict.items()}\n",
    "        o_dict = {node_type: O + self.b_o[node_type] for node_type, O in o_dict.items()}\n",
    "        o_dict = {node_type: torch.sigmoid(O) for node_type, O in o_dict.items()}\n",
    "        return o_dict\n",
    "\n",
    "    def _calculate_hidden_state(self, o_dict, c_dict):\n",
    "        h_dict = {node_type: o_dict[node_type] * torch.tanh(C) for node_type, C in c_dict.items()}\n",
    "        return h_dict\n",
    "\n",
    "    def forward(\n",
    "        self,\n",
    "        x_dict,\n",
    "        edge_index_dict,\n",
    "        edge_attr_dict,\n",
    "        h_dict=None,\n",
    "        c_dict=None,\n",
    "    ):\n",
    "        \"\"\"\n",
    "        Making a forward pass. If the hidden state and cell state\n",
    "        matrix dicts are not present when the forward pass is called these are\n",
    "        initialized with zeros.\n",
    "\n",
    "        Arg types:\n",
    "            * **x_dict** *(Dictionary where keys=Strings and values=PyTorch Float Tensors)* - Node features dicts. Can\n",
    "                be obtained via PyG method :obj:`snapshot.x_dict` where snapshot is a single HeteroData object.\n",
    "            * **edge_index_dict** *(Dictionary where keys=Tuples and values=PyTorch Long Tensors)* - Graph edge type\n",
    "                and index dicts. Can be obtained via PyG method :obj:`snapshot.edge_index_dict`.\n",
    "            * **h_dict** *(Dictionary where keys=Strings and values=PyTorch Float Tensor, optional)* - Node type and\n",
    "                hidden state matrix dict for all nodes.\n",
    "            * **c_dict** *(Dictionary where keys=Strings and values=PyTorch Float Tensor, optional)* - Node type and\n",
    "                cell state matrix dict for all nodes.\n",
    "\n",
    "        Return types:\n",
    "            * **h_dict** *(Dictionary where keys=Strings and values=PyTorch Float Tensor)* - Node type and\n",
    "                hidden state matrix dict for all nodes.\n",
    "            * **c_dict** *(Dictionary where keys=Strings and values=PyTorch Float Tensor)* - Node type and\n",
    "                cell state matrix dict for all nodes.\n",
    "        \"\"\"\n",
    "\n",
    "        h_dict = self._set_hidden_state(x_dict, h_dict)\n",
    "        c_dict = self._set_cell_state(x_dict, c_dict)\n",
    "        i_dict = self._calculate_input_gate(x_dict, edge_index_dict, edge_attr_dict, h_dict, c_dict)\n",
    "        f_dict = self._calculate_forget_gate(x_dict, edge_index_dict, edge_attr_dict, h_dict, c_dict)\n",
    "        c_dict = self._calculate_cell_state(x_dict, edge_index_dict, edge_attr_dict, h_dict, c_dict, i_dict, f_dict)\n",
    "        o_dict = self._calculate_output_gate(x_dict, edge_index_dict, edge_attr_dict, h_dict, c_dict)\n",
    "        h_dict = self._calculate_hidden_state(o_dict, c_dict)\n",
    "        return h_dict, c_dict"
   ]
  },
  {
   "cell_type": "code",
   "execution_count": 4,
   "id": "22beae1d-fce8-4358-af53-7df00fa4b91b",
   "metadata": {},
   "outputs": [],
   "source": [
    "class HeteroGCLSTM_GAT(torch.nn.Module):\n",
    "    r\"\"\"An implementation similar to the Integrated Graph Convolutional Long Short Term\n",
    "        Memory Cell for heterogeneous Graphs.\n",
    "\n",
    "        Args:\n",
    "            in_channels_dict (dict of keys=str and values=int): Dimension of each node's input features.\n",
    "            out_channels (int): Number of output features.\n",
    "            metadata (tuple): Metadata on node types and edge types in the graphs. Can be generated via PyG method\n",
    "                :obj:`snapshot.metadata()` where snapshot is a single HeteroData object.\n",
    "            bias (bool, optional): If set to :obj:`False`, the layer will not learn\n",
    "                an additive bias. (default: :obj:`True`)\n",
    "    \"\"\"\n",
    "\n",
    "    def __init__(\n",
    "            self,\n",
    "            in_channels_dict: dict,\n",
    "            out_channels: int,\n",
    "            metadata: tuple,\n",
    "            bias: bool = True\n",
    "    ):\n",
    "        super(HeteroGCLSTM_GAT, self).__init__()\n",
    "\n",
    "        self.in_channels_dict = in_channels_dict\n",
    "        self.out_channels = out_channels\n",
    "        self.metadata = metadata\n",
    "        self.bias = bias\n",
    "        self._create_parameters_and_layers()\n",
    "        self._set_parameters()\n",
    "\n",
    "    def _create_input_gate_parameters_and_layers(self):\n",
    "        self.conv_i = HeteroConv({edge_type: GATConv(in_channels=(-1, -1),\n",
    "                                                     out_channels=self.out_channels,\n",
    "                                                     heads=1,\n",
    "                                                     # concat=False,\n",
    "                                                     # edge_dim=1,\n",
    "                                                     bias=self.bias,\n",
    "                                                     add_self_loops=False) for edge_type in self.metadata[1]})\n",
    "\n",
    "        self.W_i = nn.ParameterDict({node_type: Parameter(torch.Tensor(in_channels, self.out_channels))\n",
    "                    for node_type, in_channels in self.in_channels_dict.items()})\n",
    "        self.b_i = nn.ParameterDict({node_type: Parameter(torch.Tensor(1, self.out_channels))\n",
    "                    for node_type in self.in_channels_dict})\n",
    "\n",
    "    def _create_forget_gate_parameters_and_layers(self):\n",
    "        self.conv_f = HeteroConv({edge_type: GATConv(in_channels=(-1, -1),\n",
    "                                                     out_channels=self.out_channels,\n",
    "                                                     heads=1,\n",
    "                                                     # concat=False,\n",
    "                                                     # edge_dim=1,\n",
    "                                                     bias=self.bias,\n",
    "                                                     add_self_loops=False) for edge_type in self.metadata[1]})\n",
    "\n",
    "        self.W_f = nn.ParameterDict({node_type: Parameter(torch.Tensor(in_channels, self.out_channels))\n",
    "                    for node_type, in_channels in self.in_channels_dict.items()})\n",
    "        self.b_f = nn.ParameterDict({node_type: Parameter(torch.Tensor(1, self.out_channels))\n",
    "                    for node_type in self.in_channels_dict})\n",
    "\n",
    "    def _create_cell_state_parameters_and_layers(self):\n",
    "        self.conv_c = HeteroConv({edge_type: GATConv(in_channels=(-1, -1),\n",
    "                                                     out_channels=self.out_channels,\n",
    "                                                     heads=1,\n",
    "                                                     # concat=False,\n",
    "                                                     # edge_dim=1,\n",
    "                                                     bias=self.bias,\n",
    "                                                     add_self_loops=False) for edge_type in self.metadata[1]})\n",
    "\n",
    "        self.W_c = nn.ParameterDict({node_type: Parameter(torch.Tensor(in_channels, self.out_channels))\n",
    "                    for node_type, in_channels in self.in_channels_dict.items()})\n",
    "        self.b_c = nn.ParameterDict({node_type: Parameter(torch.Tensor(1, self.out_channels))\n",
    "                    for node_type in self.in_channels_dict})\n",
    "\n",
    "    def _create_output_gate_parameters_and_layers(self):\n",
    "        self.conv_o = HeteroConv({edge_type: GATConv(in_channels=(-1, -1),\n",
    "                                                     out_channels=self.out_channels,\n",
    "                                                     heads=1,\n",
    "                                                     # concat=False,\n",
    "                                                     # edge_dim=1,\n",
    "                                                     bias=self.bias,\n",
    "                                                     add_self_loops=False) for edge_type in self.metadata[1]})\n",
    "\n",
    "        self.W_o = nn.ParameterDict({node_type: Parameter(torch.Tensor(in_channels, self.out_channels))\n",
    "                    for node_type, in_channels in self.in_channels_dict.items()})\n",
    "        self.b_o = nn.ParameterDict({node_type: Parameter(torch.Tensor(1, self.out_channels))\n",
    "                    for node_type in self.in_channels_dict})\n",
    "\n",
    "    def _create_parameters_and_layers(self):\n",
    "        self._create_input_gate_parameters_and_layers()\n",
    "        self._create_forget_gate_parameters_and_layers()\n",
    "        self._create_cell_state_parameters_and_layers()\n",
    "        self._create_output_gate_parameters_and_layers()\n",
    "\n",
    "    def _set_parameters(self):\n",
    "        for key in self.W_i:\n",
    "            glorot(self.W_i[key])\n",
    "        for key in self.W_f:\n",
    "            glorot(self.W_f[key])\n",
    "        for key in self.W_c:\n",
    "            glorot(self.W_c[key])\n",
    "        for key in self.W_o:\n",
    "            glorot(self.W_o[key])\n",
    "        for key in self.b_i:\n",
    "            glorot(self.b_i[key])\n",
    "        for key in self.b_f:\n",
    "            glorot(self.b_f[key])\n",
    "        for key in self.b_c:\n",
    "            glorot(self.b_c[key])\n",
    "        for key in self.b_o:\n",
    "            glorot(self.b_o[key])\n",
    "\n",
    "    def _set_hidden_state(self, x_dict, h_dict):\n",
    "        if h_dict is None:\n",
    "            h_dict = {node_type: torch.zeros(X.shape[0], self.out_channels) for node_type, X in x_dict.items()}\n",
    "        return h_dict\n",
    "\n",
    "    def _set_cell_state(self, x_dict, c_dict):\n",
    "        if c_dict is None:\n",
    "            c_dict = {node_type: torch.zeros(X.shape[0], self.out_channels) for node_type, X in x_dict.items()}\n",
    "        return c_dict\n",
    "\n",
    "    def _calculate_input_gate(self, x_dict, edge_index_dict, h_dict, c_dict):\n",
    "        i_dict = {node_type: torch.matmul(X, self.W_i[node_type]) for node_type, X in x_dict.items()}\n",
    "        conv_i = self.conv_i(h_dict, edge_index_dict)\n",
    "        i_dict = {node_type: I + conv_i[node_type] for node_type, I in i_dict.items()}\n",
    "        i_dict = {node_type: I + self.b_i[node_type] for node_type, I in i_dict.items()}\n",
    "        i_dict = {node_type: torch.sigmoid(I) for node_type, I in i_dict.items()}\n",
    "        return i_dict\n",
    "\n",
    "    def _calculate_forget_gate(self, x_dict, edge_index_dict, h_dict, c_dict):\n",
    "        f_dict = {node_type: torch.matmul(X, self.W_f[node_type]) for node_type, X in x_dict.items()}\n",
    "        conv_f = self.conv_f(h_dict, edge_index_dict)\n",
    "        f_dict = {node_type: F + conv_f[node_type] for node_type, F in f_dict.items()}\n",
    "        f_dict = {node_type: F + self.b_f[node_type] for node_type, F in f_dict.items()}\n",
    "        f_dict = {node_type: torch.sigmoid(F) for node_type, F in f_dict.items()}\n",
    "        return f_dict\n",
    "\n",
    "    def _calculate_cell_state(self, x_dict, edge_index_dict, h_dict, c_dict, i_dict, f_dict):\n",
    "        t_dict = {node_type: torch.matmul(X, self.W_c[node_type]) for node_type, X in x_dict.items()}\n",
    "        conv_c = self.conv_c(h_dict, edge_index_dict)\n",
    "        t_dict = {node_type: T + conv_c[node_type] for node_type, T in t_dict.items()}\n",
    "        t_dict = {node_type: T + self.b_c[node_type] for node_type, T in t_dict.items()}\n",
    "        t_dict = {node_type: torch.tanh(T) for node_type, T in t_dict.items()}\n",
    "        c_dict = {node_type: f_dict[node_type] * C + i_dict[node_type] * t_dict[node_type] for node_type, C in c_dict.items()}\n",
    "        return c_dict\n",
    "\n",
    "    def _calculate_output_gate(self, x_dict, edge_index_dict, h_dict, c_dict):\n",
    "        o_dict = {node_type: torch.matmul(X, self.W_o[node_type]) for node_type, X in x_dict.items()}\n",
    "        conv_o = self.conv_o(h_dict, edge_index_dict)\n",
    "        o_dict = {node_type: O + conv_o[node_type] for node_type, O in o_dict.items()}\n",
    "        o_dict = {node_type: O + self.b_o[node_type] for node_type, O in o_dict.items()}\n",
    "        o_dict = {node_type: torch.sigmoid(O) for node_type, O in o_dict.items()}\n",
    "        return o_dict\n",
    "\n",
    "    def _calculate_hidden_state(self, o_dict, c_dict):\n",
    "        h_dict = {node_type: o_dict[node_type] * torch.tanh(C) for node_type, C in c_dict.items()}\n",
    "        return h_dict\n",
    "\n",
    "    def forward(\n",
    "        self,\n",
    "        x_dict,\n",
    "        edge_index_dict,\n",
    "        h_dict=None,\n",
    "        c_dict=None,\n",
    "    ):\n",
    "        \"\"\"\n",
    "        Making a forward pass. If the hidden state and cell state\n",
    "        matrix dicts are not present when the forward pass is called these are\n",
    "        initialized with zeros.\n",
    "\n",
    "        Arg types:\n",
    "            * **x_dict** *(Dictionary where keys=Strings and values=PyTorch Float Tensors)* - Node features dicts. Can\n",
    "                be obtained via PyG method :obj:`snapshot.x_dict` where snapshot is a single HeteroData object.\n",
    "            * **edge_index_dict** *(Dictionary where keys=Tuples and values=PyTorch Long Tensors)* - Graph edge type\n",
    "                and index dicts. Can be obtained via PyG method :obj:`snapshot.edge_index_dict`.\n",
    "            * **h_dict** *(Dictionary where keys=Strings and values=PyTorch Float Tensor, optional)* - Node type and\n",
    "                hidden state matrix dict for all nodes.\n",
    "            * **c_dict** *(Dictionary where keys=Strings and values=PyTorch Float Tensor, optional)* - Node type and\n",
    "                cell state matrix dict for all nodes.\n",
    "\n",
    "        Return types:\n",
    "            * **h_dict** *(Dictionary where keys=Strings and values=PyTorch Float Tensor)* - Node type and\n",
    "                hidden state matrix dict for all nodes.\n",
    "            * **c_dict** *(Dictionary where keys=Strings and values=PyTorch Float Tensor)* - Node type and\n",
    "                cell state matrix dict for all nodes.\n",
    "        \"\"\"\n",
    "\n",
    "        h_dict = self._set_hidden_state(x_dict, h_dict)\n",
    "        c_dict = self._set_cell_state(x_dict, c_dict)\n",
    "        i_dict = self._calculate_input_gate(x_dict, edge_index_dict, h_dict, c_dict)\n",
    "        f_dict = self._calculate_forget_gate(x_dict, edge_index_dict, h_dict, c_dict)\n",
    "        c_dict = self._calculate_cell_state(x_dict, edge_index_dict, h_dict, c_dict, i_dict, f_dict)\n",
    "        o_dict = self._calculate_output_gate(x_dict, edge_index_dict, h_dict, c_dict)\n",
    "        h_dict = self._calculate_hidden_state(o_dict, c_dict)\n",
    "        return h_dict, c_dict"
   ]
  },
  {
   "cell_type": "markdown",
   "id": "e82ff98c-948c-43f3-87ae-d2a42f53cec4",
   "metadata": {},
   "source": [
    "# Models"
   ]
  },
  {
   "cell_type": "code",
   "execution_count": 64,
   "id": "019af6e0-6856-4031-b00f-e0e4a5412b97",
   "metadata": {},
   "outputs": [],
   "source": [
    "class MyModel_basic_edge(nn.Module):\n",
    "\n",
    "    def __init__(\n",
    "            self,\n",
    "            input_size: dict,\n",
    "            hidden_size: int,\n",
    "            out_steps: int,\n",
    "            node_type_to_pred: str,\n",
    "            metadata: tuple,\n",
    "            bias: bool=True,\n",
    "            n_layers: int = 1,\n",
    "        ):\n",
    "        super().__init__()\n",
    "        self.n_layers = n_layers\n",
    "        self.node_type_to_pred = node_type_to_pred\n",
    "        self.hidden_size = hidden_size\n",
    "        self.heterogcnlstm_layer = HeteroGCLSTM_GAT_edge(input_size, hidden_size, metadata, bias)\n",
    "        self.linear = nn.Linear(in_features=hidden_size, out_features=out_steps)\n",
    "\n",
    "    def forward(self, graph_seq):\n",
    "        n_steps = 3\n",
    "        h_dict = {node_type: torch.zeros(X.shape[0], self.hidden_size) for node_type, X in graph_seq.x_dict.items()}\n",
    "        c_dict = {node_type: torch.zeros(X.shape[0], self.hidden_size) for node_type, X in graph_seq.x_dict.items()}\n",
    "        print(\"initial hidden states\")\n",
    "        print(h_dict[\"user\"])\n",
    "        print(c_dict[\"user\"])\n",
    "        outputs = []\n",
    "\n",
    "        for t in range(n_steps):\n",
    "            print(f\"STEP NUMBER {t}\")\n",
    "            data = graph_seq\n",
    "            for edge_type in data.edge_types:\n",
    "                data[edge_type].edge_attr = torch.rand(80000)\n",
    "                data[edge_type].edge_index, data[edge_type].edge_attr = change_edge_number(\n",
    "                    data[edge_type].edge_index, data[edge_type].edge_attr\n",
    "                )\n",
    "            print(\"input data\")\n",
    "            print(data[\"user\"])\n",
    "            h_dict, c_dict = self.heterogcnlstm_layer.forward(\n",
    "                data.x_dict, data.edge_index_dict, data.edge_attr_dict, h_dict, c_dict\n",
    "            )\n",
    "            print(\"hidden state for 'user'\")\n",
    "            print(h_dict[\"user\"])\n",
    "            outputs.append(h_dict[self.node_type_to_pred])\n",
    "\n",
    "        return self.linear(h_dict[self.node_type_to_pred]), outputs\n",
    "        # out = torch.reshape(intermediate_out, (NUM_NODES, OUT_STEPS))"
   ]
  },
  {
   "cell_type": "code",
   "execution_count": 41,
   "id": "793f187b-dc30-4f81-81b7-313711bdb4c0",
   "metadata": {},
   "outputs": [],
   "source": [
    "class MyModel_basic(nn.Module):\n",
    "\n",
    "    def __init__(\n",
    "            self,\n",
    "            input_size: dict,\n",
    "            hidden_size: int,\n",
    "            out_steps: int,\n",
    "            node_type_to_pred: str,\n",
    "            metadata: tuple,\n",
    "            bias: bool=True,\n",
    "            n_layers: int = 1,\n",
    "        ):\n",
    "        super().__init__()\n",
    "        self.n_layers = n_layers\n",
    "        self.node_type_to_pred = node_type_to_pred\n",
    "        self.hidden_size = hidden_size\n",
    "        self.heterogcnlstm_layer = HeteroGCLSTM_GAT(input_size, hidden_size, metadata, bias)\n",
    "        self.linear = nn.Linear(in_features=hidden_size, out_features=out_steps)\n",
    "\n",
    "    def forward(self, graph_seq):\n",
    "        n_steps = 3\n",
    "        h_dict = {node_type: torch.zeros(X.shape[0], self.hidden_size) for node_type, X in graph_seq.x_dict.items()}\n",
    "        c_dict = {node_type: torch.zeros(X.shape[0], self.hidden_size) for node_type, X in graph_seq.x_dict.items()}\n",
    "        print(\"initial hidden states\")\n",
    "        print(h_dict[\"user\"])\n",
    "        print(c_dict[\"user\"])\n",
    "        outputs = []\n",
    "\n",
    "        for t in range(n_steps):\n",
    "            print(f\"STEP NUMBER {t}\")\n",
    "            data = graph_seq\n",
    "            for edge_type in data.edge_types:\n",
    "                data[edge_type].edge_attr = torch.rand(80000)\n",
    "            print(\"input data\")\n",
    "            print(data[\"user\"])\n",
    "            h_dict, c_dict = self.heterogcnlstm_layer.forward(\n",
    "                data.x_dict, data.edge_index_dict, h_dict, c_dict\n",
    "            )\n",
    "            print(\"hidden state for 'user'\")\n",
    "            print(h_dict[\"user\"])\n",
    "            outputs.append(h_dict[self.node_type_to_pred])\n",
    "\n",
    "        return self.linear(h_dict[self.node_type_to_pred]), outputs\n",
    "        # out = torch.reshape(intermediate_out, (NUM_NODES, OUT_STEPS))"
   ]
  },
  {
   "cell_type": "code",
   "execution_count": 7,
   "id": "f23ccd6c-f3ca-469f-a66d-97028f83d886",
   "metadata": {},
   "outputs": [],
   "source": [
    "class MyModel_autoregressive(nn.Module):\n",
    "\n",
    "    def __init__(\n",
    "            self,\n",
    "            input_size: dict,\n",
    "            hidden_size: int,\n",
    "            out_size: int,\n",
    "            out_steps: int,\n",
    "            node_type_to_pred: str,\n",
    "            metadata: tuple,\n",
    "            bias: bool=True,\n",
    "            n_layers: int = 1\n",
    "        ):\n",
    "        super().__init__()\n",
    "        self.n_layers = n_layers\n",
    "        self.out_steps = out_steps\n",
    "        self.node_type_to_pred = node_type_to_pred\n",
    "        self.hidden_size = hidden_size\n",
    "        self.heterogcnlstm_layer = HeteroGCLSTM_GAT(input_size, hidden_size, metadata, bias)\n",
    "        self.linear_1 = {\n",
    "            node_type: nn.Linear(\n",
    "                in_features=hidden_size,\n",
    "                out_features=input_size[node_type]\n",
    "            ) for node_type, dim in input_size.items()\n",
    "        } \n",
    "        self.linear_2 = nn.Linear(in_features=hidden_size, out_features=out_size)\n",
    "\n",
    "    def warmup(self, graph_seq):\n",
    "        n_steps = 3\n",
    "        h_dict = {node_type: torch.zeros(X.shape[0], self.hidden_size) for node_type, X in graph_seq.x_dict.items()}\n",
    "        c_dict = {node_type: torch.zeros(X.shape[0], self.hidden_size) for node_type, X in graph_seq.x_dict.items()}\n",
    "        edges = []\n",
    "        \n",
    "        for t in range(n_steps):\n",
    "            data = graph_seq\n",
    "            h_dict, c_dict = self.heterogcnlstm_layer.forward(\n",
    "                data.x_dict, data.edge_index_dict, h_dict, c_dict\n",
    "            )\n",
    "            edges.append(data.edge_index_dict)\n",
    "\n",
    "        pred = {node_type: self.linear_1[node_type](X) for node_type, X in h_dict.items()}\n",
    "        pred_to_out = self.linear_2(h_dict[self.node_type_to_pred])\n",
    "        return pred, edges[-1], h_dict, c_dict, pred_to_out\n",
    "\n",
    "    def forward(self, graph_seq):\n",
    "\n",
    "        predictions = []\n",
    "        prediction, edges, h, c, prediction_to_out = self.warmup(graph_seq)\n",
    "        predictions.append(prediction_to_out)\n",
    "        print(\"prediction after warmap\")\n",
    "        print(prediction_to_out.shape)\n",
    "        \n",
    "        for t in range(1, self.out_steps):\n",
    "            x = prediction\n",
    "            h, c = self.heterogcnlstm_layer(x, edges, h, c)\n",
    "            # prediction = {node_type: self.linear_2(X) for node_type, X in h.items()}\n",
    "            prediction = {node_type: self.linear_1[node_type](X) for node_type, X in h.items()}\n",
    "            prediction_to_out = self.linear_2(h[self.node_type_to_pred])\n",
    "            predictions.append(prediction_to_out)\n",
    "\n",
    "        return torch.stack(predictions, dim=1)"
   ]
  },
  {
   "cell_type": "code",
   "execution_count": 1,
   "id": "03745175-cf66-4316-aa48-799e294ef1f7",
   "metadata": {},
   "outputs": [],
   "source": [
    "# from torch_geometric.datasets import OGB_MAG\n",
    "from torch_geometric.datasets import MovieLens100K\n",
    "\n",
    "# dataset = OGB_MAG(root='./data', preprocess='metapath2vec')\n",
    "dataset = MovieLens100K(root='./data')\n",
    "data = dataset[0]"
   ]
  },
  {
   "cell_type": "code",
   "execution_count": 43,
   "id": "d2a61c7c-3aa1-4536-8b0c-1905549296d8",
   "metadata": {},
   "outputs": [
    {
     "data": {
      "text/plain": [
       "1"
      ]
     },
     "execution_count": 43,
     "metadata": {},
     "output_type": "execute_result"
    }
   ],
   "source": [
    "len(dataset)"
   ]
  },
  {
   "cell_type": "code",
   "execution_count": 57,
   "id": "6ed811d3-e51e-4057-8aa2-7fe324114408",
   "metadata": {},
   "outputs": [],
   "source": [
    "# for edge_type in data.edge_types:\n",
    "#     print(data[edge_type].edge_index)"
   ]
  },
  {
   "cell_type": "code",
   "execution_count": 2,
   "id": "b5d7a93a-3b3e-4828-aadd-cb9842522578",
   "metadata": {},
   "outputs": [
    {
     "data": {
      "text/plain": [
       "HeteroData(\n",
       "  movie={ x=[1682, 18] },\n",
       "  user={ x=[943, 24] },\n",
       "  (user, rates, movie)={\n",
       "    edge_index=[2, 80000],\n",
       "    rating=[80000],\n",
       "    time=[80000],\n",
       "    edge_label_index=[2, 20000],\n",
       "    edge_label=[20000],\n",
       "  },\n",
       "  (movie, rated_by, user)={\n",
       "    edge_index=[2, 80000],\n",
       "    rating=[80000],\n",
       "    time=[80000],\n",
       "  }\n",
       ")"
      ]
     },
     "execution_count": 2,
     "metadata": {},
     "output_type": "execute_result"
    }
   ],
   "source": [
    "data"
   ]
  },
  {
   "cell_type": "code",
   "execution_count": 3,
   "id": "dfa2d07a-d47e-4e69-aaf0-cfd9fb0a72a8",
   "metadata": {},
   "outputs": [
    {
     "data": {
      "text/plain": [
       "HeteroData(\n",
       "  movie={ x=[1682, 18] },\n",
       "  user={ x=[943, 24] },\n",
       "  (user, rates, movie)={\n",
       "    edge_index=[2, 80000],\n",
       "    rating=[80000],\n",
       "    time=[80000],\n",
       "    edge_label_index=[2, 20000],\n",
       "    edge_label=[20000],\n",
       "  },\n",
       "  (movie, rated_by, user)={\n",
       "    edge_index=[2, 80000],\n",
       "    rating=[80000],\n",
       "    time=[80000],\n",
       "  },\n",
       "  (movie, rev_rates, user)={\n",
       "    edge_index=[2, 80000],\n",
       "    rating=[80000],\n",
       "    time=[80000],\n",
       "  },\n",
       "  (user, rev_rated_by, movie)={\n",
       "    edge_index=[2, 80000],\n",
       "    rating=[80000],\n",
       "    time=[80000],\n",
       "  }\n",
       ")"
      ]
     },
     "execution_count": 3,
     "metadata": {},
     "output_type": "execute_result"
    }
   ],
   "source": [
    "import torch_geometric.transforms as T\n",
    "\n",
    "data = T.ToUndirected()(data)\n",
    "data"
   ]
  },
  {
   "cell_type": "code",
   "execution_count": 45,
   "id": "14af11ba-4c69-4c60-877f-2a6078ce0274",
   "metadata": {},
   "outputs": [
    {
     "data": {
      "text/plain": [
       "tensor([5, 3, 4, 3, 3])"
      ]
     },
     "execution_count": 45,
     "metadata": {},
     "output_type": "execute_result"
    }
   ],
   "source": [
    "data[\"user\", \"rates\", \"movie\"][\"rating\"][:5]"
   ]
  },
  {
   "cell_type": "code",
   "execution_count": 12,
   "id": "b0cec680-0741-412d-9ddb-efddeaace4a5",
   "metadata": {},
   "outputs": [],
   "source": [
    "# data[\"user\", \"rates\", \"movie\"].edge_attr = data[\"user\", \"rates\", \"movie\"][\"rating\"].float()\n",
    "# data[\"movie\", \"rated_by\", \"user\"].edge_attr = data[\"movie\", \"rated_by\", \"user\"][\"rating\"].float()"
   ]
  },
  {
   "cell_type": "code",
   "execution_count": 46,
   "id": "1ff346d9-ae67-4c70-abd8-e0a7fe72d839",
   "metadata": {},
   "outputs": [
    {
     "data": {
      "text/plain": [
       "{('user',\n",
       "  'rates',\n",
       "  'movie'): tensor([[   0,    0,    0,  ...,  942,  942,  942],\n",
       "         [   0,    1,    2,  ..., 1187, 1227, 1329]]),\n",
       " ('movie',\n",
       "  'rated_by',\n",
       "  'user'): tensor([[   0,    1,    2,  ..., 1187, 1227, 1329],\n",
       "         [   0,    0,    0,  ...,  942,  942,  942]])}"
      ]
     },
     "execution_count": 46,
     "metadata": {},
     "output_type": "execute_result"
    }
   ],
   "source": [
    "data.edge_index_dict"
   ]
  },
  {
   "cell_type": "markdown",
   "id": "1901aa51-6cdd-4606-947b-25b99cbfe01f",
   "metadata": {},
   "source": [
    "**Случайный атрибуы ребер**"
   ]
  },
  {
   "cell_type": "code",
   "execution_count": 49,
   "id": "4fe87724-384e-47bc-a375-188c780f5f34",
   "metadata": {},
   "outputs": [
    {
     "data": {
      "text/plain": [
       "tensor([0.0130, 0.0379, 0.3303,  ..., 0.0781, 0.9283, 0.6880])"
      ]
     },
     "execution_count": 49,
     "metadata": {},
     "output_type": "execute_result"
    }
   ],
   "source": [
    "tmp = torch.rand(80000)\n",
    "tmp"
   ]
  },
  {
   "cell_type": "code",
   "execution_count": 34,
   "id": "d28b2dc1-7e02-406f-92a4-1ec3ef9b1f8b",
   "metadata": {},
   "outputs": [],
   "source": [
    "# data.edge_attr_dict"
   ]
  },
  {
   "cell_type": "code",
   "execution_count": 111,
   "id": "66c188cc-f755-49fb-b513-ed9903fd32f7",
   "metadata": {},
   "outputs": [],
   "source": [
    "# data.edge_attr_dict = {\n",
    "#     ('user', 'rates', 'movie'): torch.reshape(data[\"user\", \"rates\", \"movie\"][\"rating\"].float(), (-1, 1)),\n",
    "#     ('movie', 'rated_by', 'user'): torch.reshape(data[\"movie\", \"rated_by\", \"user\"][\"rating\"].float(), (-1, 1))\n",
    "# }"
   ]
  },
  {
   "cell_type": "code",
   "execution_count": 50,
   "id": "ac75a497-8554-4bae-b864-ff974e364b73",
   "metadata": {},
   "outputs": [],
   "source": [
    "# data.edge_attr_dict['user',\n",
    "#   'rates',\n",
    "#   'movie'].dim()"
   ]
  },
  {
   "cell_type": "code",
   "execution_count": 137,
   "id": "08d8243f-11c6-422f-a342-e9fe9731b49c",
   "metadata": {},
   "outputs": [],
   "source": [
    "# data[\"paper\"][\"train_mask\"].unsqueeze(-1)[1050:1060, :]"
   ]
  },
  {
   "cell_type": "code",
   "execution_count": 138,
   "id": "e4efcd08-a369-449a-b040-52f6876de229",
   "metadata": {},
   "outputs": [],
   "source": [
    "# data[\"paper\"][\"x\"][1050:1060, :5]"
   ]
  },
  {
   "cell_type": "code",
   "execution_count": 139,
   "id": "b0f85f24-43bb-4b41-8347-15ecc17d5556",
   "metadata": {},
   "outputs": [],
   "source": [
    "# tmp = (data[\"paper\"][\"x\"] * data[\"paper\"][\"train_mask\"].unsqueeze(-1))[1050:1060, :5]\n",
    "\n",
    "# mask = tmp != 0\n",
    "# mask"
   ]
  },
  {
   "cell_type": "code",
   "execution_count": 6,
   "id": "1e050f5d-58ee-438e-aaea-d2f7a0ce5584",
   "metadata": {},
   "outputs": [],
   "source": [
    "# data[\"author\", \"affiliated_with\", \"institution\"][\"edge_index\"][:, :10]"
   ]
  },
  {
   "cell_type": "code",
   "execution_count": 7,
   "id": "14c30445-2480-43e2-b627-22a7c376361f",
   "metadata": {},
   "outputs": [],
   "source": [
    "# data[\"paper\", \"cites\", \"paper\"][\"edge_index\"][:, :10]"
   ]
  },
  {
   "cell_type": "code",
   "execution_count": 51,
   "id": "ab19f1b0-4328-49c4-b4ea-4fb11b3cd4f3",
   "metadata": {},
   "outputs": [
    {
     "data": {
      "text/plain": [
       "(['movie', 'user'],\n",
       " [('user', 'rates', 'movie'), ('movie', 'rated_by', 'user')])"
      ]
     },
     "execution_count": 51,
     "metadata": {},
     "output_type": "execute_result"
    }
   ],
   "source": [
    "data.metadata()"
   ]
  },
  {
   "cell_type": "code",
   "execution_count": 10,
   "id": "2f708bc5-7360-4107-9e0b-dce16a0731ce",
   "metadata": {},
   "outputs": [],
   "source": [
    "# import torch_geometric.transforms as T\n",
    "\n",
    "# data_undirected = T.ToUndirected()(data)\n",
    "# data_undirected"
   ]
  },
  {
   "cell_type": "code",
   "execution_count": 66,
   "id": "aa72565b-2464-4c8d-847c-1eddd3e514b6",
   "metadata": {},
   "outputs": [],
   "source": [
    "# input_dims = {\n",
    "#     \"paper\": 128,\n",
    "#     \"author\": 128,\n",
    "#     \"institution\": 128,\n",
    "#     \"field_of_study\": 128\n",
    "# }\n",
    "\n",
    "input_dims = {\n",
    "    \"movie\": 18,\n",
    "    \"user\": 24,\n",
    "}\n",
    "\n",
    "# meta = data_undirected.metadata()\n",
    "meta = data.metadata()\n",
    "\n",
    "hidden_size = 32\n",
    "\n",
    "# layer = HeteroGCLSTM_SAGE(in_channels_dict=input_dims, out_channels=32, metadata=meta)\n",
    "layer = HeteroGCLSTM_GAT(in_channels_dict=input_dims, out_channels=hidden_size, metadata=meta)"
   ]
  },
  {
   "cell_type": "code",
   "execution_count": 67,
   "id": "e89910f6-8d7c-4ad9-af28-9d13f0bff6d9",
   "metadata": {},
   "outputs": [],
   "source": [
    "model_basic = MyModel_basic_edge(input_dims, hidden_size, 3, \"user\", meta)"
   ]
  },
  {
   "cell_type": "code",
   "execution_count": 68,
   "id": "2e728ecb-0907-409e-9740-281f6361e55a",
   "metadata": {},
   "outputs": [
    {
     "name": "stdout",
     "output_type": "stream",
     "text": [
      "initial hidden states\n",
      "tensor([[0., 0., 0.,  ..., 0., 0., 0.],\n",
      "        [0., 0., 0.,  ..., 0., 0., 0.],\n",
      "        [0., 0., 0.,  ..., 0., 0., 0.],\n",
      "        ...,\n",
      "        [0., 0., 0.,  ..., 0., 0., 0.],\n",
      "        [0., 0., 0.,  ..., 0., 0., 0.],\n",
      "        [0., 0., 0.,  ..., 0., 0., 0.]])\n",
      "tensor([[0., 0., 0.,  ..., 0., 0., 0.],\n",
      "        [0., 0., 0.,  ..., 0., 0., 0.],\n",
      "        [0., 0., 0.,  ..., 0., 0., 0.],\n",
      "        ...,\n",
      "        [0., 0., 0.,  ..., 0., 0., 0.],\n",
      "        [0., 0., 0.,  ..., 0., 0., 0.],\n",
      "        [0., 0., 0.,  ..., 0., 0., 0.]])\n",
      "STEP NUMBER 0\n",
      "input data\n",
      "{'x': tensor([[0.3288, 0.0000, 1.0000,  ..., 0.0000, 1.0000, 0.0000],\n",
      "        [0.7260, 1.0000, 0.0000,  ..., 0.0000, 0.0000, 0.0000],\n",
      "        [0.3151, 0.0000, 1.0000,  ..., 0.0000, 0.0000, 1.0000],\n",
      "        ...,\n",
      "        [0.2740, 0.0000, 1.0000,  ..., 1.0000, 0.0000, 0.0000],\n",
      "        [0.6575, 1.0000, 0.0000,  ..., 0.0000, 0.0000, 0.0000],\n",
      "        [0.3014, 0.0000, 1.0000,  ..., 1.0000, 0.0000, 0.0000]])}\n",
      "hidden state for 'user'\n",
      "tensor([[ 0.0375,  0.0608, -0.1389,  ...,  0.0394, -0.0634,  0.1013],\n",
      "        [-0.1149, -0.0152, -0.0502,  ..., -0.1497,  0.0121,  0.0981],\n",
      "        [-0.0742, -0.0643, -0.0594,  ...,  0.0097, -0.0092, -0.0012],\n",
      "        ...,\n",
      "        [ 0.0101, -0.0642, -0.0329,  ..., -0.0123,  0.0207,  0.0757],\n",
      "        [-0.0503,  0.0454, -0.1137,  ..., -0.0954, -0.0293,  0.0388],\n",
      "        [ 0.0109, -0.0648, -0.0339,  ..., -0.0140,  0.0222,  0.0754]],\n",
      "       grad_fn=<MulBackward0>)\n",
      "STEP NUMBER 1\n",
      "input data\n",
      "{'x': tensor([[0.3288, 0.0000, 1.0000,  ..., 0.0000, 1.0000, 0.0000],\n",
      "        [0.7260, 1.0000, 0.0000,  ..., 0.0000, 0.0000, 0.0000],\n",
      "        [0.3151, 0.0000, 1.0000,  ..., 0.0000, 0.0000, 1.0000],\n",
      "        ...,\n",
      "        [0.2740, 0.0000, 1.0000,  ..., 1.0000, 0.0000, 0.0000],\n",
      "        [0.6575, 1.0000, 0.0000,  ..., 0.0000, 0.0000, 0.0000],\n",
      "        [0.3014, 0.0000, 1.0000,  ..., 1.0000, 0.0000, 0.0000]])}\n",
      "hidden state for 'user'\n",
      "tensor([[ 0.0637,  0.0708, -0.2141,  ...,  0.0474, -0.0782,  0.1722],\n",
      "        [-0.1446, -0.0227, -0.0827,  ..., -0.2058,  0.0293,  0.1628],\n",
      "        [-0.0933, -0.0846, -0.0933,  ...,  0.0051, -0.0019,  0.0114],\n",
      "        ...,\n",
      "        [ 0.0100, -0.0782, -0.0728,  ..., -0.0145,  0.0361,  0.1310],\n",
      "        [-0.0651,  0.0595, -0.1740,  ..., -0.1487, -0.0345,  0.0730],\n",
      "        [ 0.0198, -0.0884, -0.0669,  ..., -0.0222,  0.0448,  0.1315]],\n",
      "       grad_fn=<MulBackward0>)\n",
      "STEP NUMBER 2\n",
      "input data\n",
      "{'x': tensor([[0.3288, 0.0000, 1.0000,  ..., 0.0000, 1.0000, 0.0000],\n",
      "        [0.7260, 1.0000, 0.0000,  ..., 0.0000, 0.0000, 0.0000],\n",
      "        [0.3151, 0.0000, 1.0000,  ..., 0.0000, 0.0000, 1.0000],\n",
      "        ...,\n",
      "        [0.2740, 0.0000, 1.0000,  ..., 1.0000, 0.0000, 0.0000],\n",
      "        [0.6575, 1.0000, 0.0000,  ..., 0.0000, 0.0000, 0.0000],\n",
      "        [0.3014, 0.0000, 1.0000,  ..., 1.0000, 0.0000, 0.0000]])}\n",
      "hidden state for 'user'\n",
      "tensor([[ 0.0775,  0.0706, -0.2556,  ...,  0.0521, -0.0805,  0.2150],\n",
      "        [-0.1522, -0.0250, -0.1033,  ..., -0.2241,  0.0453,  0.2032],\n",
      "        [-0.0972, -0.0913, -0.1173,  ...,  0.0094,  0.0081,  0.0256],\n",
      "        ...,\n",
      "        [ 0.0057, -0.0768, -0.1056,  ..., -0.0087,  0.0455,  0.1656],\n",
      "        [-0.0717,  0.0629, -0.2083,  ..., -0.1755, -0.0344,  0.0987],\n",
      "        [ 0.0226, -0.0956, -0.0926,  ..., -0.0228,  0.0626,  0.1683]],\n",
      "       grad_fn=<MulBackward0>)\n"
     ]
    }
   ],
   "source": [
    "final_out, outputs = model_basic(data)"
   ]
  },
  {
   "cell_type": "code",
   "execution_count": 37,
   "id": "60f5dbff-e3b5-480c-9933-691f1f44bbf9",
   "metadata": {},
   "outputs": [
    {
     "name": "stdout",
     "output_type": "stream",
     "text": [
      "torch.Size([943, 3])\n",
      "tensor([[ 0.2007, -0.0007, -0.0098],\n",
      "        [ 0.2084,  0.0436,  0.1494],\n",
      "        [ 0.1952, -0.0385,  0.0323],\n",
      "        ...,\n",
      "        [ 0.2839, -0.0335,  0.1205],\n",
      "        [ 0.2694,  0.0938,  0.1230],\n",
      "        [ 0.2828, -0.0307,  0.1216]], grad_fn=<AddmmBackward0>)\n"
     ]
    }
   ],
   "source": [
    "print(final_out.shape)\n",
    "print(final_out)"
   ]
  },
  {
   "cell_type": "code",
   "execution_count": 38,
   "id": "1afbdec6-bf2b-4900-9a16-bf3fcb628ebc",
   "metadata": {},
   "outputs": [],
   "source": [
    "model_autoregressive = MyModel_autoregressive(input_dims, hidden_size, 1, 3, \"user\", meta)"
   ]
  },
  {
   "cell_type": "code",
   "execution_count": 39,
   "id": "4ee3ea4e-ce40-4860-8e9c-156b518d9f81",
   "metadata": {},
   "outputs": [
    {
     "name": "stdout",
     "output_type": "stream",
     "text": [
      "prediction after warmap\n",
      "torch.Size([943, 1])\n"
     ]
    }
   ],
   "source": [
    "preds = model_autoregressive(data)"
   ]
  },
  {
   "cell_type": "code",
   "execution_count": 40,
   "id": "ea35d0eb-486a-4d82-97c0-fa1168f43c9b",
   "metadata": {},
   "outputs": [
    {
     "data": {
      "text/plain": [
       "torch.Size([943, 3])"
      ]
     },
     "execution_count": 40,
     "metadata": {},
     "output_type": "execute_result"
    }
   ],
   "source": [
    "preds.squeeze().shape"
   ]
  },
  {
   "cell_type": "code",
   "execution_count": 12,
   "id": "bf8d95d7-cd54-4de1-ac0d-ccb33c797807",
   "metadata": {},
   "outputs": [],
   "source": [
    "# data_undirected.x_dict"
   ]
  },
  {
   "cell_type": "code",
   "execution_count": 13,
   "id": "dfa79288-3bed-414c-a15d-9a330a41e6f9",
   "metadata": {},
   "outputs": [],
   "source": [
    "# data_undirected.edge_index_dict"
   ]
  },
  {
   "cell_type": "code",
   "execution_count": 15,
   "id": "00d81c81-6395-46a5-a518-7f3f2d08b59f",
   "metadata": {},
   "outputs": [],
   "source": [
    "# h_out, c_out = layer.forward(data_undirecte.x_dict, data_undirected.edge_index_dict)\n",
    "h_out, c_out = layer.forward(data.x_dict, data.edge_index_dict)"
   ]
  },
  {
   "cell_type": "code",
   "execution_count": 16,
   "id": "8896ca4e-8668-48e9-b6be-9e4d4dfbee44",
   "metadata": {},
   "outputs": [
    {
     "data": {
      "text/plain": [
       "{'movie': tensor([[-0.1559, -0.0837, -0.0984,  ..., -0.1043, -0.0718,  0.0447],\n",
       "         [-0.0432,  0.0050, -0.1661,  ..., -0.1044, -0.1881, -0.0776],\n",
       "         [-0.0599, -0.0981, -0.0705,  ..., -0.0822, -0.1083,  0.0332],\n",
       "         ...,\n",
       "         [-0.0996, -0.0671, -0.0393,  ...,  0.0235, -0.1518, -0.0476],\n",
       "         [-0.1389, -0.0848, -0.0360,  ..., -0.1173, -0.0162,  0.0766],\n",
       "         [-0.1194, -0.0333, -0.0662,  ..., -0.0258, -0.0711,  0.0015]],\n",
       "        grad_fn=<MulBackward0>),\n",
       " 'user': tensor([[-0.0247,  0.0794, -0.1272,  ...,  0.0662,  0.1731, -0.0283],\n",
       "         [ 0.1836,  0.0941, -0.0265,  ..., -0.0192,  0.1276, -0.0270],\n",
       "         [ 0.0782, -0.0103, -0.0802,  ...,  0.1032,  0.1847,  0.0144],\n",
       "         ...,\n",
       "         [ 0.0989,  0.0677, -0.0168,  ...,  0.1402,  0.0903, -0.0371],\n",
       "         [ 0.0691,  0.1197, -0.0362,  ...,  0.0220,  0.1665,  0.0121],\n",
       "         [ 0.0969,  0.0681, -0.0183,  ...,  0.1403,  0.0911, -0.0366]],\n",
       "        grad_fn=<MulBackward0>)}"
      ]
     },
     "execution_count": 16,
     "metadata": {},
     "output_type": "execute_result"
    }
   ],
   "source": [
    "h_out"
   ]
  },
  {
   "cell_type": "code",
   "execution_count": 17,
   "id": "32f08e26-7028-403a-a4b0-a8556d6bf4cb",
   "metadata": {},
   "outputs": [
    {
     "data": {
      "text/plain": [
       "tensor([[-0.0247,  0.0794, -0.1272,  ...,  0.0662,  0.1731, -0.0283],\n",
       "        [ 0.1836,  0.0941, -0.0265,  ..., -0.0192,  0.1276, -0.0270],\n",
       "        [ 0.0782, -0.0103, -0.0802,  ...,  0.1032,  0.1847,  0.0144],\n",
       "        ...,\n",
       "        [ 0.0989,  0.0677, -0.0168,  ...,  0.1402,  0.0903, -0.0371],\n",
       "        [ 0.0691,  0.1197, -0.0362,  ...,  0.0220,  0.1665,  0.0121],\n",
       "        [ 0.0969,  0.0681, -0.0183,  ...,  0.1403,  0.0911, -0.0366]],\n",
       "       grad_fn=<MulBackward0>)"
      ]
     },
     "execution_count": 17,
     "metadata": {},
     "output_type": "execute_result"
    }
   ],
   "source": [
    "h_out[\"user\"]"
   ]
  },
  {
   "cell_type": "code",
   "execution_count": 18,
   "id": "8679e3c9-fc60-4260-ab93-d5f8d8741455",
   "metadata": {},
   "outputs": [
    {
     "data": {
      "text/plain": [
       "torch.Size([943, 32])"
      ]
     },
     "execution_count": 18,
     "metadata": {},
     "output_type": "execute_result"
    }
   ],
   "source": [
    "h_out[\"user\"].shape"
   ]
  },
  {
   "cell_type": "code",
   "execution_count": 19,
   "id": "c74969c7-c395-477b-af00-dae83a3ad1a2",
   "metadata": {},
   "outputs": [
    {
     "data": {
      "text/plain": [
       "torch.Size([943, 1])"
      ]
     },
     "execution_count": 19,
     "metadata": {},
     "output_type": "execute_result"
    }
   ],
   "source": [
    "time_steps = 10\n",
    "num_nodes = h_out[\"user\"].shape[0]\n",
    "\n",
    "linear_layer = nn.Linear(in_features=hidden_size, out_features=1)\n",
    "out = linear_layer(h_out[\"user\"])\n",
    "out.shape"
   ]
  },
  {
   "cell_type": "code",
   "execution_count": null,
   "id": "3486ecfb-2b29-4fca-b5b8-3616e2e46ddc",
   "metadata": {},
   "outputs": [],
   "source": []
  }
 ],
 "metadata": {
  "kernelspec": {
   "display_name": "Python 3 (ipykernel)",
   "language": "python",
   "name": "python3"
  },
  "language_info": {
   "codemirror_mode": {
    "name": "ipython",
    "version": 3
   },
   "file_extension": ".py",
   "mimetype": "text/x-python",
   "name": "python",
   "nbconvert_exporter": "python",
   "pygments_lexer": "ipython3",
   "version": "3.11.5"
  }
 },
 "nbformat": 4,
 "nbformat_minor": 5
}
